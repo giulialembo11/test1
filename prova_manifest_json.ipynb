{
 "cells": [
  {
   "cell_type": "code",
   "execution_count": 1,
   "id": "e61e32f0-168b-41a8-9f8d-be4fe55cc439",
   "metadata": {},
   "outputs": [
    {
     "name": "stdout",
     "output_type": "stream",
     "text": [
      "Il manifest è stato salvato come manifest.json\n"
     ]
    }
   ],
   "source": [
    "import json\n",
    "\n",
    "# Crea il dizionario con i dati del manifest IIIF\n",
    "manifest_data = {\n",
    "    \"@context\": \"http://iiif.io/api/presentation/2/context.json\",\n",
    "    \"@id\": \"https://example.com/iiif/manifest/M6L_PC_0021_1\",\n",
    "    \"label\": \"M6L_PC_0021_1\",\n",
    "    \"type\": \"Manifest\",\n",
    "    \"metadata\": [\n",
    "        {\n",
    "            \"label\": \"Creator\",\n",
    "            \"value\": \"Unknown\"\n",
    "        },\n",
    "        {\n",
    "            \"label\": \"Date\",\n",
    "            \"value\": \"1900s\"\n",
    "        }\n",
    "    ],\n",
    "    \"sequences\": [\n",
    "        {\n",
    "            \"label\": \"Current view\",\n",
    "            \"type\": \"Sequence\",\n",
    "            \"canvases\": [\n",
    "                {\n",
    "                    \"@id\": \"https://example.com/iiif/canvas/M6L_PC_0021_1\",\n",
    "                    \"type\": \"Canvas\",\n",
    "                    \"label\": \"Canvas 1\",\n",
    "                    \"width\": 1024,\n",
    "                    \"height\": 768,\n",
    "                    \"images\": [\n",
    "                        {\n",
    "                            \"@id\": \"https://example.com/iiif/image/M6L_PC_0021_1/full/full/0/default.jpg\",\n",
    "                            \"type\": \"Image\",\n",
    "                            \"resource\": {\n",
    "                                \"@id\": \"https://m6lshowcase.com/wp-content/uploads/tainacan-items/90/2245/M6L_PC_0021_1.jpeg\",\n",
    "                                \"format\": \"image/jpeg\",\n",
    "                                \"height\": 768,\n",
    "                                \"width\": 1024\n",
    "                            },\n",
    "                            \"on\": \"https://example.com/iiif/canvas/M6L_PC_0021_1\"\n",
    "                        }\n",
    "                    ]\n",
    "                }\n",
    "            ]\n",
    "        }\n",
    "    ]\n",
    "}\n",
    "\n",
    "# Salva il dizionario come un file JSON\n",
    "with open('manifest.json', 'w') as json_file:\n",
    "    json.dump(manifest_data, json_file, indent=4)\n",
    "\n",
    "print(\"Il manifest è stato salvato come manifest.json\")"
   ]
  },
  {
   "cell_type": "code",
   "execution_count": null,
   "id": "b96ea4e0-13c9-4903-81c8-5cb672a61c86",
   "metadata": {},
   "outputs": [],
   "source": []
  }
 ],
 "metadata": {
  "kernelspec": {
   "display_name": "Python 3 (ipykernel)",
   "language": "python",
   "name": "python3"
  },
  "language_info": {
   "codemirror_mode": {
    "name": "ipython",
    "version": 3
   },
   "file_extension": ".py",
   "mimetype": "text/x-python",
   "name": "python",
   "nbconvert_exporter": "python",
   "pygments_lexer": "ipython3",
   "version": "3.8.20"
  }
 },
 "nbformat": 4,
 "nbformat_minor": 5
}
